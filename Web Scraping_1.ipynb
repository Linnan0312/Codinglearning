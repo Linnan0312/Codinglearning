{
 "cells": [
  {
   "cell_type": "code",
   "execution_count": 1,
   "id": "2889124f-a077-4e9f-ac31-d152b66705f1",
   "metadata": {},
   "outputs": [
    {
     "name": "stdout",
     "output_type": "stream",
     "text": [
      "Requirement already satisfied: html5lib in /opt/anaconda3/lib/python3.11/site-packages (1.1)\n",
      "Requirement already satisfied: six>=1.9 in /opt/anaconda3/lib/python3.11/site-packages (from html5lib) (1.16.0)\n",
      "Requirement already satisfied: webencodings in /opt/anaconda3/lib/python3.11/site-packages (from html5lib) (0.5.1)\n",
      "Note: you may need to restart the kernel to use updated packages.\n"
     ]
    }
   ],
   "source": [
    "pip install html5lib"
   ]
  },
  {
   "cell_type": "code",
   "execution_count": 1,
   "id": "33f0bd0c-bcd5-4c21-aef2-6948bb23f94a",
   "metadata": {},
   "outputs": [
    {
     "name": "stdout",
     "output_type": "stream",
     "text": [
      "Requirement already satisfied: bs4 in /opt/anaconda3/lib/python3.11/site-packages (0.0.2)\n",
      "Requirement already satisfied: beautifulsoup4 in /opt/anaconda3/lib/python3.11/site-packages (from bs4) (4.12.2)\n",
      "Requirement already satisfied: soupsieve>1.2 in /opt/anaconda3/lib/python3.11/site-packages (from beautifulsoup4->bs4) (2.5)\n",
      "Note: you may need to restart the kernel to use updated packages.\n"
     ]
    }
   ],
   "source": [
    "pip install bs4"
   ]
  },
  {
   "cell_type": "code",
   "execution_count": 2,
   "id": "d996baab-7592-4911-b45d-d0f2fdd277cf",
   "metadata": {},
   "outputs": [],
   "source": [
    "from bs4 import BeautifulSoup\n",
    "import requests\n",
    "import pandas as pd"
   ]
  },
  {
   "cell_type": "code",
   "execution_count": 15,
   "id": "1eb6274e-fdd3-40db-a004-0d14f3162ec8",
   "metadata": {},
   "outputs": [],
   "source": [
    "url=\"https://www.accessdata.fda.gov/scripts/cder/daf/index.cfm?event=overview.process&ApplNo=215866\"\n",
    "response=requests.get(url).text\n"
   ]
  },
  {
   "cell_type": "code",
   "execution_count": 16,
   "id": "d1891654-89b0-41b2-9e57-310f4841c5d2",
   "metadata": {},
   "outputs": [],
   "source": [
    "soup=BeautifulSoup(response,\"html5lib\")"
   ]
  },
  {
   "cell_type": "code",
   "execution_count": 17,
   "id": "e6c62ff1-20fd-4a81-9741-b8dff1ae33d0",
   "metadata": {},
   "outputs": [
    {
     "data": {
      "text/plain": [
       "'<!DOCTYPE html>\\n<html lang=\"en\" style=\"\" xmlns=\"http://www.w3.org/1999/xhtml\">\\n <head>\\n  <meta content=\"IE=EDGE, chrome=1\" http-equiv=\"X-UA-Compatible\"/>\\n  <meta content=\"text/html; charset=utf-8\" http-equiv=\"Content-Type\"/>\\n  <meta content=\"Drugs@FDA: FDA-Approved Drugs\" name=\"dc.title\"/>\\n  <meta content=\"\" name=\"dc.type\"/>\\n  <meta content=\"\" name=\"dc.description\"/>\\n  <meta content=\"\" name=\"dc.language\"/>\\n  <meta content=\"\" name=\"posted\"/>\\n  <meta content=\"\" name=\"Keywords\"/>\\n  <meta content=\"\" name=\"Description\"/>\\n  <meta content=\"wxQkNTrqmvYnwVcNzA2mspBp7EDErzIhAzyX-YvvRWI\" name=\"google-site-verification\"/>\\n  <meta content=\"noindex, nofollow\" name=\"ROBOTS\"/>\\n  <meta content=\"width=device-width, initial-scale=1.0\" name=\"viewport\"/>\\n  <meta content=\"FDA\" name=\"apple-mobile-web-app-title\"/>\\n  <meta content=\"yes\" name=\"apple-mobile-web-app-capable\"/>\\n  <title>\\n   Drugs@FDA: FDA-Approved Drugs\\n  </title>\\n  <link href=\"/scripts/includes/fdagov/css/css_accessdata_stylesheet.css\" media=\"all\" rel=\"stylesheet\" type=\"text/css\"/>\\n  <link href=\"/scripts/includes/fdagov/css/css_bootstrap_stylesheet.css\" media=\"all\" rel=\"stylesheet\" type=\"text/css\"/>\\n  <link href=\"/scripts/includes/fdagov/css/css_responsive_stylesheet.css\" media=\"all\" rel=\"stylesheet\" type=\"text/css\"/>\\n  <style type=\"text/css\">\\n   .container { max-width: 1500px !important;}\\n\\t\\t@media screen and (min-width: 992px) {\\n.main-content {\\n    max-width: 1500px !important;\\n}\\n}\\n  </style>\\n  <script>\\n   (function(i,s,o,g,r,a,m){i[\\'GoogleAnalyticsObject1\\']=r;i[r]=i[r]||function(){\\n\\t\\t(i[r].q=i[r].q||[]).push(arguments)},i[r].l=1*new Date();a=s.createElement(o),\\n\\t\\tm=s.getElementsByTagName(o)[0];a.async=1;a.src=g;m.parentNode.insertBefore(a,m)\\n\\t\\t})(window,document,\\'script\\',\\'https://www.googletagmanager.com/gtag/js?id=G-B0V4T2XCW7\\',\\'gtag\\');\\n\\t\\twindow.dataLayer = window.dataLayer || [];\\n\\t\\tfunction gtag(){dataLayer.push(arguments);}\\t\\n\\t\\tgtag(\\'js\\', new Date());\\n\\t\\tgtag(\\'config\\', \\'G-B0V4T2XCW7\\');\\n  </script>\\n  <script src=\"/scripts/includes/fdagov/js/js_jquery.js\">\\n  </script>\\n  <script src=\"/scripts/includes/fdagov/js/js_bootstrap.js\">\\n  </script>\\n  <script src=\"/scripts/includes/fdagov/js/js_accessdata.js\">\\n  </script>\\n </head>\\n <body>\\n  <!-- DAP Code -->\\n  <script id=\"_fed_an_ua_tag\" language=\"javascript\" src=\"https://dap.digitalgov.gov/Universal-Federated-Analytics-Min.js?agency=HHS&amp;subagency=FDA&amp;sdor=fda.gov&amp;dclink=true\">\\n  </script>\\n  <div class=\"sr-only\" id=\"quicklinks\">\\n   <ul>\\n    <li>\\n     <a class=\"sr-only sr-only-focusable\" href=\"#main-content\" tabindex=\"1\">\\n      Skip to main content\\n     </a>\\n    </li>\\n    <li>\\n     <a class=\"sr-only sr-only-focusable\" href=\"#search-form\" tabindex=\"1\">\\n      Skip to FDA Search\\n     </a>\\n    </li>\\n    <li>\\n     <a class=\"sr-only sr-only-focusable\" href=\"#footer-heading\" tabindex=\"1\">\\n      Skip to footer links\\n     </a>\\n    </li>\\n   </ul>\\n  </div>\\n  <div class=\"main-container container-fluid\">\\n   <div class=\"row\">\\n    <header class=\"lcds-header container-fluid\" role=\"header\">\\n     <div class=\"row us-masthead\">\\n      <div class=\"usa-banner col-xs-12\">\\n       <img alt=\"U.S. flag\" class=\"usa-banner__us-flag\" src=\"/scripts/includes/fdagov/images/US_Flag.png\"/>\\n       <span>\\n        An official website of the United States government\\n       </span>\\n       <a aria-controls=\"USABannerMenu\" aria-expanded=\"false\" class=\"collapsed\" data-target=\"#USABannerMenu\" data-toggle=\"collapse\" id=\"USMenuButton\">\\n        Here\\'s how you know\\n        <span class=\"toggle-indicator\">\\n        </span>\\n       </a>\\n       <div aria-labelledby=\"USMenuButton\" class=\"col-xs-12 collapse usa-banner__menu\" id=\"USABannerMenu\">\\n        <div aria-hidden=\"true\" class=\"row usa-banner-content usa-grid usa-accordion-content\" id=\"gov-banner\">\\n         <div class=\"col-xs-12 col-sm-6 col-md-3\">\\n          <img alt=\"Dot gov\" class=\"usa-banner-icon usa-media_block-img\" src=\"/scripts/includes/fdagov/images/icon-dot-gov.svg\" style=\"width:3em;\"/>\\n          <div class=\"usa-media_block-body\">\\n           <p>\\n            <strong>\\n             The .gov means it\\'s official.\\n            </strong>\\n            <br/>\\n            Federal government websites often end in .gov or .mil. Before sharing sensitive information, make sure you\\'re on a federal government site.\\n           </p>\\n          </div>\\n         </div>\\n         <div class=\"col-xs-12 col-sm-6 col-md-3\">\\n          <img alt=\"SSL\" class=\"usa-banner-icon usa-media_block-img\" src=\"/scripts/includes/fdagov/images/icon-https.svg\" style=\"width:3em;\"/>\\n          <div class=\"usa-media_block-body\">\\n           <p>\\n            <strong>\\n             The site is secure.\\n            </strong>\\n            <br/>\\n            The\\n            <strong>\\n             https://\\n            </strong>\\n            ensures that you are connecting to the official website and that any information you provide is encrypted and transmitted securely.\\n           </p>\\n          </div>\\n         </div>\\n        </div>\\n       </div>\\n      </div>\\n     </div>\\n     <div class=\"row fda-masthead\">\\n      <div class=\"col-xs-4 col-md-8\">\\n       <a href=\"https://www.fda.gov\" title=\"FDA Homepage\">\\n        <h1 class=\"fda-masthead__fda-logo\">\\n         U.S. Food and Drug Administration\\n        </h1>\\n       </a>\\n      </div>\\n      <div class=\"col-xs-8 col-md-4\">\\n       <ul class=\"fda-masthead__item-list\">\\n        <li>\\n         <a class=\"btn btn-default btn-sm fda-masthead__btn-search\" id=\"btn-search\" title=\"\">\\n          <span aria-hidden=\"true\" class=\"fa fa-search\">\\n          </span>\\n          <span class=\"fda-masthead__btn-label\">\\n           Search\\n          </span>\\n         </a>\\n        </li>\\n        <li>\\n         <a aria-expanded=\"true\" class=\"btn btn-default btn-sm fda-masthead__btn-menu collapsed\" data-toggle=\"collapse\" href=\"#primary-nav\" id=\"menu-btn\">\\n          <span aria-hidden=\"true\" class=\"fa fa-bars\">\\n          </span>\\n          <span class=\"fda-masthead__btn-label\">\\n           Menu\\n          </span>\\n         </a>\\n        </li>\\n       </ul>\\n      </div>\\n      <form accept-charset=\"UTF-8\" action=\"https://www.fda.gov/search\" class=\"fda-masthead__search sr-only\" id=\"search-form\" method=\"GET\" name=\"searchForm\" role=\"search\">\\n       <div class=\"search-popover\" id=\"search-popover\">\\n        <div class=\"input-group pull-right\" id=\"search-group\">\\n         <label class=\"sr-only\" for=\"search-query\">\\n          Search FDA\\n         </label>\\n         <input accesskey=\"4\" aria-autocomplete=\"list\" aria-haspopup=\"true\" class=\"form-control search-input\" id=\"search-query\" name=\"s\" placeholder=\"Search FDA\" title=\"Enter the terms you wish to search for.\" type=\"text\"/>\\n         <span class=\"input-group-btn\" id=\"input-group-btn\">\\n          <button class=\"btn btn-danger search-btn\" id=\"search-btn\" title=\"Search\" type=\"button\">\\n           <span aria-hidden=\"true\" class=\"fa fa-search\">\\n            <span class=\"sr-only\">\\n             Submit search\\n            </span>\\n           </span>\\n          </button>\\n         </span>\\n        </div>\\n       </div>\\n      </form>\\n     </div>\\n     <nav class=\"lcds-primary-nav row collapse\" id=\"primary-nav\">\\n      <div class=\"col-md-5 col-lg-4\">\\n       <section class=\"lcds-primary-nav__group lcds-primary-nav__group--bordered\">\\n        <h2 class=\"lcds-primary-nav__group-heading\">\\n         Featured\\n        </h2>\\n        <ul class=\"lcds-primary-nav__list lcds-primary-nav__list--featured\">\\n         <li class=\"lcds-primary-nav__list-item\">\\n          <a href=\"https://www.fda.gov/about-fda/contact-fda\">\\n           Contact FDA\\n          </a>\\n         </li>\\n         <li class=\"lcds-primary-nav__list-item\">\\n          <a href=\"https://www.fda.gov/regulatory-information/search-fda-guidance-documents\">\\n           FDA Guidance Documents\\n          </a>\\n         </li>\\n         <li class=\"lcds-primary-nav__list-item\">\\n          <a href=\"https://www.fda.gov/safety/recalls-market-withdrawals-safety-alerts\">\\n           Recalls, Market Withdrawals and Safety Alerts\\n          </a>\\n         </li>\\n         <li class=\"lcds-primary-nav__list-item\">\\n          <a href=\"https://www.fda.gov/news-events/newsroom/press-announcements\">\\n           Press Announcements\\n          </a>\\n         </li>\\n         <li class=\"lcds-primary-nav__list-item\">\\n          <a href=\"https://www.fda.gov/inspections-compliance-enforcement-and-criminal-investigations/compliance-actions-and-activities/warning-letters\">\\n           Warning Letters\\n          </a>\\n         </li>\\n         <li class=\"lcds-primary-nav__list-item\">\\n          <a href=\"https://www.fda.gov/advisory-committees\">\\n           Advisory Committees\\n          </a>\\n         </li>\\n         <li class=\"lcds-primary-nav__list-item\">\\n          <a href=\"https://www.fda.gov/about-fda/en-espanol\">\\n           En Español\\n          </a>\\n         </li>\\n        </ul>\\n       </section>\\n      </div>\\n      <div class=\"col-md-7 col-lg-8\">\\n       <section class=\"lcds-primary-nav__group lcds-primary-nav__group--bordered\">\\n        <h2 class=\"lcds-primary-nav__group-heading\">\\n         Products\\n        </h2>\\n        <ul class=\"lcds-primary-nav__list\">\\n         <li class=\"lcds-primary-nav__list-item\">\\n          <a href=\"https://www.fda.gov/food\">\\n           Food\\n          </a>\\n         </li>\\n         <li class=\"lcds-primary-nav__list-item\">\\n          <a href=\"https://www.fda.gov/drugs\">\\n           Drugs\\n          </a>\\n         </li>\\n         <li class=\"lcds-primary-nav__list-item\">\\n          <a href=\"https://www.fda.gov/medical-devices\">\\n           Medical Devices\\n          </a>\\n         </li>\\n         <li class=\"lcds-primary-nav__list-item\">\\n          <a href=\"https://www.fda.gov/radiation-emitting-products\">\\n           Radiation-Emitting Products\\n          </a>\\n         </li>\\n         <li class=\"lcds-primary-nav__list-item\">\\n          <a href=\"https://www.fda.gov/vaccines-blood-biologics\">\\n           Vaccines, Blood, and Biologics\\n          </a>\\n         </li>\\n         <li class=\"lcds-primary-nav__list-item\">\\n          <a href=\"https://www.fda.gov/animal-veterinary\">\\n           Animal and Veterinary\\n          </a>\\n         </li>\\n         <li class=\"lcds-primary-nav__list-item\">\\n          <a href=\"https://www.fda.gov/cosmetics\">\\n           Cosmetics\\n          </a>\\n         </li>\\n         <li class=\"lcds-primary-nav__list-item\">\\n          <a href=\"https://www.fda.gov/tobacco-products\">\\n           Tobacco Products\\n          </a>\\n         </li>\\n        </ul>\\n       </section>\\n       <section class=\"lcds-primary-nav__group lcds-primary-nav__group--bordered\">\\n        <h2 class=\"lcds-primary-nav__group-heading\">\\n         Topics\\n        </h2>\\n        <ul class=\"lcds-primary-nav__list\">\\n         <li class=\"lcds-primary-nav__list-item\">\\n          <a href=\"https://www.fda.gov/about-fda\">\\n           About FDA\\n          </a>\\n         </li>\\n         <li class=\"lcds-primary-nav__list-item\">\\n          <a href=\"https://www.fda.gov/combination-products\">\\n           Combination Products\\n          </a>\\n         </li>\\n         <li class=\"lcds-primary-nav__list-item\">\\n          <a href=\"https://www.fda.gov/regulatory-information\">\\n           Regulatory Information\\n          </a>\\n         </li>\\n         <li class=\"lcds-primary-nav__list-item\">\\n          <a href=\"https://www.fda.gov/safety\">\\n           Safety\\n          </a>\\n         </li>\\n         <li class=\"lcds-primary-nav__list-item\">\\n          <a href=\"https://www.fda.gov/emergency-preparedness-and-response\">\\n           Emergency Preparedness\\n          </a>\\n         </li>\\n         <li class=\"lcds-primary-nav__list-item\">\\n          <a href=\"https://www.fda.gov/international-programs\">\\n           International Programs\\n          </a>\\n         </li>\\n         <li class=\"lcds-primary-nav__list-item\">\\n          <a href=\"https://www.fda.gov/news-events\">\\n           News and Events\\n          </a>\\n         </li>\\n         <li class=\"lcds-primary-nav__list-item\">\\n          <a href=\"https://www.fda.gov/training-and-continuing-education\">\\n           Training and Continuing Education\\n          </a>\\n         </li>\\n         <li class=\"lcds-primary-nav__list-item\">\\n          <a href=\"https://www.fda.gov/inspections-compliance-enforcement-and-criminal-investigations\">\\n           Inspections and Compliance\\n          </a>\\n         </li>\\n         <li class=\"lcds-primary-nav__list-item\">\\n          <a href=\"https://www.fda.gov/science-research\">\\n           Science and Research\\n          </a>\\n         </li>\\n        </ul>\\n       </section>\\n       <section class=\"lcds-primary-nav__group lcds-primary-nav__group--bordered\">\\n        <h2 class=\"lcds-primary-nav__group-heading\">\\n         Information For\\n        </h2>\\n        <ul class=\"lcds-primary-nav__list\">\\n         <li class=\"lcds-primary-nav__list-item\">\\n          <a href=\"https://www.fda.gov/consumers\">\\n           Consumers\\n          </a>\\n         </li>\\n         <li class=\"lcds-primary-nav__list-item\">\\n          <a href=\"https://www.fda.gov/patients\">\\n           Patients\\n          </a>\\n         </li>\\n         <li class=\"lcds-primary-nav__list-item\">\\n          <a href=\"https://www.fda.gov/industry\">\\n           Industry\\n          </a>\\n         </li>\\n         <li class=\"lcds-primary-nav__list-item\">\\n          <a href=\"https://www.fda.gov/health-professionals\">\\n           Health Professionals\\n          </a>\\n         </li>\\n         <li class=\"lcds-primary-nav__list-item\">\\n          <a href=\"https://www.fda.gov/federal-state-local-tribal-and-territorial-officials\">\\n           Federal, State and Local Officials\\n          </a>\\n         </li>\\n        </ul>\\n       </section>\\n      </div>\\n     </nav>\\n    </header>\\n    <section class=\"clearfix\" id=\"block-entityviewcontent-15\">\\n     <ol class=\"lcds-breadcrumb\">\\n      <li>\\n       <a href=\"https://www.fda.gov/\" id=\"main\">\\n        Home\\n       </a>\\n      </li>\\n      <li class=\"secondLast\">\\n       <a href=\"https://www.fda.gov/Drugs/InformationOnDrugs/default.htm\" title=\"Drug Databases\">\\n        Drug Databases\\n       </a>\\n      </li>\\n      <li class=\"last\">\\n       <a href=\"/scripts/cder/daf/index.cfm\" title=\"Drugs at FDA\">\\n        Drugs@FDA\\n       </a>\\n      </li>\\n     </ol>\\n    </section>\\n    <main>\\n     <article class=\"article main-content container-fluid\" id=\"main-content\" role=\"article\">\\n      <header class=\"row content-header\" role=\"heading\">\\n       <section class=\"clearfix\" id=\"block-entityviewcontent-14\">\\n        <div class=\"col-sm-12 col-md-8 col-md-offset-2 pageTitleDiv\">\\n         <h1 class=\"content-title text-center\">\\n          Drugs@FDA: FDA-Approved Drugs\\n         </h1>\\n         <div class=\"lcds-toolbar lcds-toolbar--social\">\\n          <ul class=\"lcds-share lcds-share--default\">\\n           <li class=\"lcds-share__item\">\\n            <a class=\"lcds-share__btn lcds-share--default__btn-facebook js-share\" id=\"fb-share\" target=\"_blank\">\\n             <span aria-hidden=\"true\" class=\"fa icon-facebook\">\\n             </span>\\n             Share\\n            </a>\\n           </li>\\n           <li class=\"lcds-share__item\">\\n            <a class=\"lcds-share__btn lcds-share--default__btn-twitter js-share\" id=\"twitter-share\" target=\"_blank\">\\n             <span aria-hidden=\"true\" class=\"fa icon-twitter\">\\n             </span>\\n             Tweet\\n            </a>\\n           </li>\\n           <li class=\"lcds-share__item hidden-xs\">\\n            <a class=\"lcds-share__btn lcds-share--default__btn-linkedin js-share\" id=\"linkedin-share\" target=\"_blank\">\\n             <span aria-hidden=\"true\" class=\"fa icon-linkedin\">\\n             </span>\\n             Linkedin\\n            </a>\\n           </li>\\n           <li class=\"lcds-share__item\">\\n            <a class=\"lcds-share__btn lcds-share--default__btn-mail\" id=\"btn-mail-share\">\\n             <span aria-hidden=\"true\" class=\"fa icon-envelope\">\\n             </span>\\n             Email\\n            </a>\\n           </li>\\n           <li class=\"lcds-share__item hidden-xs\">\\n            <a class=\"lcds-share__btn lcds-share--default__btn-print\" href=\"javascript:window.print();\" title=\"Print this page\">\\n             <span aria-hidden=\"true\" class=\"fa icon-print\">\\n             </span>\\n             Print\\n            </a>\\n           </li>\\n          </ul>\\n         </div>\\n        </div>\\n       </section>\\n      </header>\\n      <div class=\"container\" role=\"main\">\\n       <style>\\n        .panel.with-nav-tabs .nav-tabs {\\n            border-bottom: none;\\n        }\\n       </style>\\n       <link href=\"#application.IncludesPath#css/style.css\" rel=\"stylesheet\" type=\"text/css\"/>\\n       <!-- ==== Modernizr for feature detection and Respond for responsive features in IE8 ==== -->\\n       <p>\\n        <strong>\\n         <a class=\"headerlinktext\" href=\"index.cfm\" title=\"Home\">\\n          Home\\n         </a>\\n         |\\n         <a href=\"#\" onclick=\"history.go(-1);return false;\" title=\"Previous Page\">\\n          Previous Page\\n         </a>\\n        </strong>\\n       </p>\\n       <input name=\"rptName\" type=\"hidden\" value=\"0\"/>\\n       <script language=\"javascript\" src=\"https://code.jquery.com/jquery-1.12.0.min.js\" type=\"text/javascript\">\\n       </script>\\n       <script language=\"javascript\" src=\"https://cdn.datatables.net/1.10.12/js/jquery.dataTables.min.js\" type=\"text/javascript\">\\n       </script>\\n       <script language=\"javascript\" src=\"https://cdn.datatables.net/plug-ins/1.10.15/sorting/natural.js\" type=\"text/javascript\">\\n       </script>\\n       <script language=\"javascript\" src=\"https://cdn.datatables.net/responsive/2.0.2/js/dataTables.responsive.min.js\" type=\"text/javascript\">\\n       </script>\\n       <script language=\"javascript\" src=\"https://cdn.datatables.net/plug-ins/1.10.11/features/searchHighlight/dataTables.searchHighlight.min.js\" type=\"text/javascript\">\\n       </script>\\n       <script language=\"javascript\" src=\"https://bartaz.github.io/sandbox.js/jquery.highlight.js\" type=\"text/javascript\">\\n       </script>\\n       <script language=\"javascript\" src=\"https://code.jquery.com/ui/1.10.4/jquery-ui.js\" type=\"text/javascript\">\\n       </script>\\n       <link href=\"https://cdn.datatables.net/1.10.15/css/jquery.dataTables.min.css\" rel=\"stylesheet\" type=\"text/css\"/>\\n       <link href=\"https://cdn.datatables.net/responsive/2.0.2/css/responsive.dataTables.min.css\" rel=\"stylesheet\" type=\"text/css\"/>\\n       <link href=\"https://code.jquery.com/ui/1.10.4/themes/smoothness/jquery-ui.css\" rel=\"stylesheet\" type=\"text/css\"/>\\n       <link href=\"https://cdn.datatables.net/plug-ins/1.10.11/features/searchHighlight/dataTables.searchHighlight.css\" rel=\"stylesheet\" type=\"text/css\"/>\\n       <script language=\"javascript\" src=\"https://cdn.datatables.net/buttons/1.1.0/js/dataTables.buttons.min.js\" type=\"text/javascript\">\\n       </script>\\n       <script language=\"javascript\" src=\"https://cdn.datatables.net/buttons/1.1.0/js/buttons.bootstrap.min.js\" type=\"text/javascript\">\\n       </script>\\n       <script language=\"javascript\" src=\"https://cdnjs.cloudflare.com/ajax/libs/jszip/2.5.0/jszip.min.js\" type=\"text/javascript\">\\n       </script>\\n       <script language=\"javascript\" src=\"https://cdn.rawgit.com/bpampuch/pdfmake/0.1.18/build/pdfmake.min.js\" type=\"text/javascript\">\\n       </script>\\n       <script language=\"javascript\" src=\"https://cdn.rawgit.com/bpampuch/pdfmake/0.1.18/build/vfs_fonts.js\" type=\"text/javascript\">\\n       </script>\\n       <script language=\"javascript\" src=\"https://cdn.datatables.net/buttons/1.1.0/js/buttons.html5.min.js\" type=\"text/javascript\">\\n       </script>\\n       <script language=\"javascript\" src=\"https://cdn.datatables.net/buttons/1.1.0/js/buttons.print.min.js\" type=\"text/javascript\">\\n       </script>\\n       <script>\\n        $(document).ready(function() {\\n$(\\'#exampleProd\\').DataTable( {\\n\\tresponsive: true,    \\n    dom: \\'Bfrtip\\',\\n    \"bPaginate\": false,\\n    buttons: [\\'csv\\', \\'excel\\', \\'print\\'],\\n\\t\"bFilter\": false\\n\\t});   \\n});\\n       </script>\\n       <script>\\n        $(document).ready(function() { \\n$(\\'#exampleApplOrig\\').DataTable( {\\n\\tcolumnDefs: [\\n    \\t{targets: [0], type: \\'natural\\'},\\n\\t\\t{targets: [7], visible: false, searchable: false}\\n\\t],\\n\\t\"order\": [[ 0, \\'desc\\' ],\\n\\t],\\n\\tresponsive: true,    \\n    dom: \\'Bfrtip\\',\\n    \"bPaginate\": false,\\n    buttons: [ \\'csv\\', \\'excel\\', \\'print\\'],\\n    \"bFilter\": false,\\n\\t});   \\n});\\n       </script>\\n       <script>\\n        $(document).ready(function (){\\n$(\\'#exampleApplSuppl\\').DataTable( {\\n\\tcolumnDefs: [ \\n\\t\\t{targets: [0,1], type: \\'natural\\'},\\n\\t\\t{targets: [5], visible: false, searchable: false}\\n\\t],\\n\\t\"order\": [[ 0, \\'desc\\' ],\\n\\t],\\n\\tresponsive: true,    \\n    dom: \\'Bfrtip\\',\\n    \"bPaginate\": false,\\n    buttons: [\\'csv\\', \\'excel\\', \\'print\\'],\\n    \"bFilter\": false \\n\\t});   \\n});\\n       </script>\\n       <script>\\n        $(document).ready(function() {\\n$(\\'#exampleLabels\\').DataTable( {\\n\\tresponsive: true,    \\n\\tdom: \\'Bfrtip\\',\\n    \"bPaginate\": false,  \\n    buttons: [\\'csv\\', \\'excel\\', \\'print\\'],\\n\\t\"bFilter\": false,\\n\\t\"order\": [[ 0, \\'desc\\' ],\\n\\t],\\n    \"columnDefs\": [ \\n\\t\\t{ \"targets\": [5],\\n        \"visible\": false,\\n        \"searchable\": false}]\\n\\t});   \\n});\\n       </script>\\n       <style>\\n        .panel-body .dt-responsive {\\n\\tfont-size: 1m;\\n\\tfont-weight: bold;\\n}\\n.prodBoldText {\\n\\tfont-weight: bold;\\n\\tfont-size: .9em;    \\n}\\n.tableBoldText, thead {\\n\\tfont-weight: bold;\\n\\tfont-size: 1.12em;    \\n}   \\n.UnBoldText {\\n\\tfont-weight: normal;\\n\\tfont-size: 1.12em; \\n}\\n.appl-details-top {\\n\\tcolor: #1D2D76\\n}\\n       </style>\\n       <div class=\"panel-group\" id=\"accordion\">\\n        <span style=\"font-size:1.1em\">\\n         <span class=\"prodBoldText\">\\n          <strong>\\n           New Drug Application (NDA)\\n          </strong>\\n          :\\n         </span>\\n         <span class=\"appl-details-top\">\\n          215866\\n         </span>\\n         <br/>\\n         <span class=\"prodBoldText\">\\n          Company:\\n         </span>\\n         <span class=\"appl-details-top\">\\n          ELI LILLY AND CO\\n         </span>\\n        </span>\\n        <div class=\"share-btns\">\\n         <div class=\"row\">\\n          <div class=\"col-md-10\">\\n          </div>\\n          <div class=\"col-md-2\">\\n           <ul class=\"share-list share-list-default\">\\n            <li>\\n             <a class=\"share-btn mail-share\" href=\"mailto:?Subject=Drugs@FDA: FDA Approved Drug Products&amp;body=http://www.accessdata.fda.gov/scripts/cder/daf/index.cfm?event=overview.process%26varApplNo=215866\" id=\"btn-mail-share\" title=\"Email\">\\n              <span aria-hidden=\"true\" class=\"icon-envelope\">\\n              </span>\\n              Email\\n             </a>\\n            </li>\\n           </ul>\\n          </div>\\n         </div>\\n        </div>\\n        <div class=\"row\">\\n         <div class=\"col-md-12\">\\n          <ul>\\n           <li>\\n            <a href=\"https://www.accessdata.fda.gov/drugsatfda_docs/label/2023/215866Orig1s002s006lbl.pdf#page=20\" target=\"_blank\" title=\"Medication Guide\">\\n             Medication Guide\\n            </a>\\n           </li>\\n          </ul>\\n         </div>\\n        </div>\\n        <div style=\"height: 10px\">\\n        </div>\\n        <div class=\"panel panel-info\">\\n         <div class=\"panel-heading\">\\n          <h4 class=\"panel-title\">\\n           <a class=\"toggle collapsed\" data-parent=\"#accordion\" data-toggle=\"collapse\" href=\"#collapseProduct\" title=\"Click to expand Products on NDA 215866\">\\n            Products on NDA 215866\\n           </a>\\n          </h4>\\n         </div>\\n         <div class=\"panel-collapse\" id=\"collapseProduct\">\\n          <div class=\"panel-body\">\\n           <div class=\"table-responsive\">\\n            <table border=\"0\" cellspacing=\"0\" class=\"table table-bordered\" id=\"exampleProd\" summary=\"FDA Approved Drug Products\" width=\"100%\">\\n             <thead>\\n              <tr style=\"color:#fff;background:#09373f\">\\n               <th scope=\"col\" title=\"Sort by Drug Name\">\\n                Drug Name\\n               </th>\\n               <th scope=\"col\" title=\"Sort by Active Ingredients\">\\n                Active Ingredients\\n               </th>\\n               <th scope=\"col\" title=\"Sort by Strength\">\\n                Strength\\n               </th>\\n               <th scope=\"col\" title=\"Sort by Dosage Form/Route\">\\n                Dosage Form/Route\\n               </th>\\n               <th scope=\"col\" title=\"Sort by Marketing Status\">\\n                Marketing Status\\n               </th>\\n               <th scope=\"col\" title=\"TE Code\">\\n                TE Code\\n               </th>\\n               <th scope=\"col\">\\n                RLD\\n               </th>\\n               <th scope=\"col\" title=\"Reference Standard\">\\n                RS\\n               </th>\\n              </tr>\\n             </thead>\\n             <tbody>\\n              <tr class=\"prodBoldText\">\\n               <td>\\n                MOUNJARO\\n               </td>\\n               <td>\\n                TIRZEPATIDE\\n               </td>\\n               <td>\\n                2.5MG/0.5ML (2.5MG/0.5ML)\\n               </td>\\n               <td>\\n                SOLUTION;SUBCUTANEOUS\\n               </td>\\n               <td>\\n                Prescription\\n               </td>\\n               <td>\\n                None\\n               </td>\\n               <td>\\n                Yes\\n               </td>\\n               <td>\\n                Yes\\n               </td>\\n              </tr>\\n              <tr class=\"prodBoldText\">\\n               <td>\\n                MOUNJARO\\n               </td>\\n               <td>\\n                TIRZEPATIDE\\n               </td>\\n               <td>\\n                5MG/0.5ML (5MG/0.5ML)\\n               </td>\\n               <td>\\n                SOLUTION;SUBCUTANEOUS\\n               </td>\\n               <td>\\n                Prescription\\n               </td>\\n               <td>\\n                None\\n               </td>\\n               <td>\\n                Yes\\n               </td>\\n               <td>\\n                Yes\\n               </td>\\n              </tr>\\n              <tr class=\"prodBoldText\">\\n               <td>\\n                MOUNJARO\\n               </td>\\n               <td>\\n                TIRZEPATIDE\\n               </td>\\n               <td>\\n                7.5MG/0.5ML (7.5MG/0.5ML)\\n               </td>\\n               <td>\\n                SOLUTION;SUBCUTANEOUS\\n               </td>\\n               <td>\\n                Prescription\\n               </td>\\n               <td>\\n                None\\n               </td>\\n               <td>\\n                Yes\\n               </td>\\n               <td>\\n                Yes\\n               </td>\\n              </tr>\\n              <tr class=\"prodBoldText\">\\n               <td>\\n                MOUNJARO\\n               </td>\\n               <td>\\n                TIRZEPATIDE\\n               </td>\\n               <td>\\n                10MG/0.5ML (10MG/0.5ML)\\n               </td>\\n               <td>\\n                SOLUTION;SUBCUTANEOUS\\n               </td>\\n               <td>\\n                Prescription\\n               </td>\\n               <td>\\n                None\\n               </td>\\n               <td>\\n                Yes\\n               </td>\\n               <td>\\n                Yes\\n               </td>\\n              </tr>\\n              <tr class=\"prodBoldText\">\\n               <td>\\n                MOUNJARO\\n               </td>\\n               <td>\\n                TIRZEPATIDE\\n               </td>\\n               <td>\\n                12.5MG/0.5ML (12.5MG/0.5ML)\\n               </td>\\n               <td>\\n                SOLUTION;SUBCUTANEOUS\\n               </td>\\n               <td>\\n                Prescription\\n               </td>\\n               <td>\\n                None\\n               </td>\\n               <td>\\n                Yes\\n               </td>\\n               <td>\\n                Yes\\n               </td>\\n              </tr>\\n              <tr class=\"prodBoldText\">\\n               <td>\\n                MOUNJARO\\n               </td>\\n               <td>\\n                TIRZEPATIDE\\n               </td>\\n               <td>\\n                15MG/0.5ML (15MG/0.5ML)\\n               </td>\\n               <td>\\n                SOLUTION;SUBCUTANEOUS\\n               </td>\\n               <td>\\n                Prescription\\n               </td>\\n               <td>\\n                None\\n               </td>\\n               <td>\\n                Yes\\n               </td>\\n               <td>\\n                Yes\\n               </td>\\n              </tr>\\n              <tr class=\"prodBoldText\">\\n               <td>\\n                MOUNJARO (AUTOINJECTOR)\\n               </td>\\n               <td>\\n                TIRZEPATIDE\\n               </td>\\n               <td>\\n                2.5MG/0.5ML (2.5MG/0.5ML)\\n               </td>\\n               <td>\\n                SOLUTION;SUBCUTANEOUS\\n               </td>\\n               <td>\\n                Prescription\\n               </td>\\n               <td>\\n                None\\n               </td>\\n               <td>\\n                Yes\\n               </td>\\n               <td>\\n                Yes\\n               </td>\\n              </tr>\\n              <tr class=\"prodBoldText\">\\n               <td>\\n                MOUNJARO (AUTOINJECTOR)\\n               </td>\\n               <td>\\n                TIRZEPATIDE\\n               </td>\\n               <td>\\n                5MG/0.5ML (5MG/0.5ML)\\n               </td>\\n               <td>\\n                SOLUTION;SUBCUTANEOUS\\n               </td>\\n               <td>\\n                Prescription\\n               </td>\\n               <td>\\n                None\\n               </td>\\n               <td>\\n                Yes\\n               </td>\\n               <td>\\n                Yes\\n               </td>\\n              </tr>\\n              <tr class=\"prodBoldText\">\\n               <td>\\n                MOUNJARO (AUTOINJECTOR)\\n               </td>\\n               <td>\\n                TIRZEPATIDE\\n               </td>\\n               <td>\\n                7.5MG/0.5ML (7.5MG/0.5ML)\\n               </td>\\n               <td>\\n                SOLUTION;SUBCUTANEOUS\\n               </td>\\n               <td>\\n                Prescription\\n               </td>\\n               <td>\\n                None\\n               </td>\\n               <td>\\n                Yes\\n               </td>\\n               <td>\\n                Yes\\n               </td>\\n              </tr>\\n              <tr class=\"prodBoldText\">\\n               <td>\\n                MOUNJARO (AUTOINJECTOR)\\n               </td>\\n               <td>\\n                TIRZEPATIDE\\n               </td>\\n               <td>\\n                10MG/0.5ML (10MG/0.5ML)\\n               </td>\\n               <td>\\n                SOLUTION;SUBCUTANEOUS\\n               </td>\\n               <td>\\n                Prescription\\n               </td>\\n               <td>\\n                None\\n               </td>\\n               <td>\\n                Yes\\n               </td>\\n               <td>\\n                Yes\\n               </td>\\n              </tr>\\n              <tr class=\"prodBoldText\">\\n               <td>\\n                MOUNJARO (AUTOINJECTOR)\\n               </td>\\n               <td>\\n                TIRZEPATIDE\\n               </td>\\n               <td>\\n                12.5MG/0.5ML (12.5MG/0.5ML)\\n               </td>\\n               <td>\\n                SOLUTION;SUBCUTANEOUS\\n               </td>\\n               <td>\\n                Prescription\\n               </td>\\n               <td>\\n                None\\n               </td>\\n               <td>\\n                Yes\\n               </td>\\n               <td>\\n                Yes\\n               </td>\\n              </tr>\\n              <tr class=\"prodBoldText\">\\n               <td>\\n                MOUNJARO (AUTOINJECTOR)\\n               </td>\\n               <td>\\n                TIRZEPATIDE\\n               </td>\\n               <td>\\n                15MG/0.5ML (15MG/0.5ML)\\n               </td>\\n               <td>\\n                SOLUTION;SUBCUTANEOUS\\n               </td>\\n               <td>\\n                Prescription\\n               </td>\\n               <td>\\n                None\\n               </td>\\n               <td>\\n                Yes\\n               </td>\\n               <td>\\n                Yes\\n               </td>\\n              </tr>\\n             </tbody>\\n            </table>\\n           </div>\\n          </div>\\n         </div>\\n        </div>\\n        <div class=\"panel panel-info\">\\n         <div class=\"panel-heading\">\\n          <h4 class=\"panel-title\">\\n           <a class=\"toggle collapsed\" data-parent=\"#accordion\" data-toggle=\"collapse\" href=\"#collapseApproval\" title=\"Click to expand Approval Date(s) and History, Letters, Labels, Reviews for NDA   215866\">\\n            Approval Date(s) and History, Letters, Labels, Reviews for NDA   215866\\n           </a>\\n          </h4>\\n         </div>\\n         <div class=\"panel-collapse collapse\" id=\"collapseApproval\">\\n          <div class=\"panel-body\">\\n           <div class=\"table-responsive\">\\n            <h5>\\n             Original Approvals or Tentative Approvals\\n            </h5>\\n            <table border=\"0\" cellspacing=\"0\" class=\"table table-bordered\" id=\"exampleApplOrig\" summary=\"Original Approvals or Tentative Approvals\" width=\"100%\">\\n             <thead>\\n              <tr style=\"color:#fff;background:#09373f\">\\n               <th scope=\"col\" title=\"Sort by Date\">\\n                Action Date\\n               </th>\\n               <th scope=\"col\" title=\"Sort by Submission\">\\n                Submission\\n               </th>\\n               <th scope=\"col\">\\n                Action Type\\n               </th>\\n               <th scope=\"col\">\\n                Submission Classification\\n               </th>\\n               <th scope=\"col\">\\n                Review Priority; Orphan Status\\n               </th>\\n               <th scope=\"col\">\\n                Letters, Reviews, Labels, Patient Package Insert\\n               </th>\\n               <th scope=\"col\">\\n                Notes\\n               </th>\\n               <th scope=\"col\">\\n                Url\\n               </th>\\n              </tr>\\n             </thead>\\n             <tbody>\\n              <tr>\\n               <td>\\n                05/13/2022\\n               </td>\\n               <td>\\n                ORIG-1\\n               </td>\\n               <td>\\n                Approval\\n               </td>\\n               <td>\\n                Type 1 - New Molecular Entity\\n               </td>\\n               <td>\\n                PRIORITY\\n               </td>\\n               <td>\\n                <span style=\"white-space: nowrap;\">\\n                 <a href=\"https://www.accessdata.fda.gov/drugsatfda_docs/label/2022/215866s000lbl.pdf\" target=\"_blank\" title=\"Links to Label\">\\n                  Label (PDF)\\n                 </a>\\n                 <br/>\\n                 <a href=\"https://www.accessdata.fda.gov/drugsatfda_docs/appletter/2022/215866Orig1s000ltr.pdf\" target=\"_blank\" title=\"Links to Letter\">\\n                  Letter (PDF)\\n                 </a>\\n                 <br/>\\n                 <a href=\"https://www.accessdata.fda.gov/drugsatfda_docs/nda/2022/215866Orig1s000TOC.cfm\" target=\"_blank\" title=\"Links to Review\">\\n                  Review\\n                 </a>\\n                 <br/>\\n                </span>\\n               </td>\\n               <td>\\n               </td>\\n               <td>\\n                https://www.accessdata.fda.gov/drugsatfda_docs/label/2022/215866s000lbl.pdf \\n        https://www.accessdata.fda.gov/drugsatfda_docs/appletter/2022/215866Orig1s000ltr.pdf \\n        https://www.accessdata.fda.gov/drugsatfda_docs/nda/2022/215866Orig1s000TOC.cfm\\n               </td>\\n              </tr>\\n             </tbody>\\n            </table>\\n            <h5>\\n             Supplements\\n            </h5>\\n            <table border=\"0\" cellspacing=\"0\" class=\"table table-bordered\" id=\"exampleApplSuppl\" summary=\"Supplements\" width=\"100%\">\\n             <thead>\\n              <tr style=\"color:#fff;background:#09373f\">\\n               <th scope=\"col\" title=\"Sort by Drug Name\">\\n                Action Date\\n               </th>\\n               <th scope=\"col\">\\n                Submission\\n               </th>\\n               <th scope=\"col\">\\n                Supplement Categories or Approval Type\\n               </th>\\n               <th scope=\"col\">\\n                Letters, Reviews, Labels, Patient Package Insert\\n               </th>\\n               <th scope=\"col\">\\n                Note\\n               </th>\\n               <th scope=\"col\">\\n                Url\\n               </th>\\n              </tr>\\n             </thead>\\n             <tbody>\\n              <tr>\\n               <td>\\n                07/28/2023\\n               </td>\\n               <td>\\n                SUPPL-6\\n               </td>\\n               <td>\\n                Labeling-Package Insert\\n               </td>\\n               <td>\\n                <a href=\"https://www.accessdata.fda.gov/drugsatfda_docs/label/2023/215866Orig1s002s006lbl.pdf\" target=\"_blank\" title=\"Links to Label\">\\n                 Label (PDF)\\n                </a>\\n                <br/>\\n                <a href=\"https://www.accessdata.fda.gov/drugsatfda_docs/appletter/2023/215866Orig1s002,s006ltr.pdf\" target=\"_blank\" title=\"Links to Letter\">\\n                 Letter (PDF)\\n                </a>\\n                <br/>\\n               </td>\\n               <td>\\n               </td>\\n               <td>\\n                https://www.accessdata.fda.gov/drugsatfda_docs/label/2023/215866Orig1s002s006lbl.pdf\\n\\t\\n\\t\\n\\t\\thttps://www.accessdata.fda.gov/drugsatfda_docs/appletter/2023/215866Orig1s002,s006ltr.pdf\\n               </td>\\n              </tr>\\n              <tr>\\n               <td>\\n                07/28/2023\\n               </td>\\n               <td>\\n                SUPPL-2\\n               </td>\\n               <td>\\n                Labeling-Package Insert, Labeling-Container/Carton Labels, Labeling-Medication Guide\\n               </td>\\n               <td>\\n                <a href=\"https://www.accessdata.fda.gov/drugsatfda_docs/label/2023/215866Orig1s002s006lbl.pdf\" target=\"_blank\" title=\"Links to Label\">\\n                 Label (PDF)\\n                </a>\\n                <br/>\\n                <a href=\"https://www.accessdata.fda.gov/drugsatfda_docs/appletter/2023/215866Orig1s002,s006ltr.pdf\" target=\"_blank\" title=\"Links to Letter\">\\n                 Letter (PDF)\\n                </a>\\n                <br/>\\n               </td>\\n               <td>\\n               </td>\\n               <td>\\n                https://www.accessdata.fda.gov/drugsatfda_docs/label/2023/215866Orig1s002s006lbl.pdf\\n\\t\\n\\t\\n\\t\\thttps://www.accessdata.fda.gov/drugsatfda_docs/appletter/2023/215866Orig1s002,s006ltr.pdf\\n               </td>\\n              </tr>\\n             </tbody>\\n            </table>\\n           </div>\\n          </div>\\n         </div>\\n        </div>\\n        <div class=\"panel panel-info\">\\n         <div class=\"panel-heading\">\\n          <h4 class=\"panel-title\">\\n           <a class=\"toggle collapsed\" data-parent=\"#accordion\" data-toggle=\"collapse\" href=\"#collapseLables\" title=\"Click to expand Other OTC Drugs with the Same Active Ingredient, Strength and Dosage Form/Route\">\\n            Labels for NDA   215866\\n           </a>\\n          </h4>\\n         </div>\\n         <div class=\"panel-collapse collapse\" id=\"collapseLables\">\\n          <div class=\"panel-body\">\\n           <div class=\"table-responsive\">\\n            <table border=\"0\" cellpadding=\"0\" class=\"table table-bordered\" id=\"exampleLabels\" summary=\"Labels for the selected Application\" width=\"100%\">\\n             <thead>\\n              <tr style=\"color:#fff;background:#09373f\">\\n               <th scope=\"col\" title=\"Sort by Drug Name\">\\n                Action Date\\n               </th>\\n               <th scope=\"col\" title=\"Sort by Drug Name\">\\n                Submission\\n               </th>\\n               <th scope=\"col\" title=\"Sort by Submission Classification or Approval Type\">\\n                Supplement Categories or Approval Type\\n               </th>\\n               <th scope=\"col\" title=\"Sort by Drug Name\">\\n                Letters, Reviews, Labels,\\n                <br/>\\n                Patient Package Insert\\n               </th>\\n               <th scope=\"col\" title=\"Sort by Letters, Reviews, Labels, Patient Package Insert\">\\n                Note\\n               </th>\\n               <th scope=\"col\">\\n                Url\\n               </th>\\n              </tr>\\n             </thead>\\n             <tbody>\\n              <tr class=\"UnBoldText\">\\n               <td valign=\"top\">\\n                07/28/2023\\n               </td>\\n               <td valign=\"top\">\\n                SUPPL-6\\n               </td>\\n               <td valign=\"top\">\\n                Labeling-Package Insert\\n               </td>\\n               <td valign=\"top\">\\n                <a href=\"https://www.accessdata.fda.gov/drugsatfda_docs/label/2023/215866Orig1s002s006lbl.pdf\" target=\"_blank\" title=\"Links to http://www.accessdata.fda.gov/drugsatfda_docs/label/2023/215866Orig1s002s006lbl.pdf\">\\n                 Label (PDF)\\n                </a>\\n               </td>\\n               <td valign=\"top\">\\n               </td>\\n               <td>\\n                https://www.accessdata.fda.gov/drugsatfda_docs/label/2023/215866Orig1s002s006lbl.pdf\\n               </td>\\n              </tr>\\n              <tr class=\"UnBoldText\">\\n               <td valign=\"top\">\\n                07/28/2023\\n               </td>\\n               <td valign=\"top\">\\n                SUPPL-2\\n               </td>\\n               <td valign=\"top\">\\n                Labeling-Package Insert\\n               </td>\\n               <td valign=\"top\">\\n                <a href=\"https://www.accessdata.fda.gov/drugsatfda_docs/label/2023/215866Orig1s002s006lbl.pdf\" target=\"_blank\" title=\"Links to http://www.accessdata.fda.gov/drugsatfda_docs/label/2023/215866Orig1s002s006lbl.pdf\">\\n                 Label (PDF)\\n                </a>\\n               </td>\\n               <td valign=\"top\">\\n               </td>\\n               <td>\\n                https://www.accessdata.fda.gov/drugsatfda_docs/label/2023/215866Orig1s002s006lbl.pdf\\n               </td>\\n              </tr>\\n              <tr class=\"UnBoldText\">\\n               <td valign=\"top\">\\n                07/28/2023\\n               </td>\\n               <td valign=\"top\">\\n                SUPPL-2\\n               </td>\\n               <td valign=\"top\">\\n                Labeling-Container/Carton Labels\\n               </td>\\n               <td valign=\"top\">\\n                <a href=\"https://www.accessdata.fda.gov/drugsatfda_docs/label/2023/215866Orig1s002s006lbl.pdf\" target=\"_blank\" title=\"Links to http://www.accessdata.fda.gov/drugsatfda_docs/label/2023/215866Orig1s002s006lbl.pdf\">\\n                 Label (PDF)\\n                </a>\\n               </td>\\n               <td valign=\"top\">\\n               </td>\\n               <td>\\n                https://www.accessdata.fda.gov/drugsatfda_docs/label/2023/215866Orig1s002s006lbl.pdf\\n               </td>\\n              </tr>\\n              <tr class=\"UnBoldText\">\\n               <td valign=\"top\">\\n                07/28/2023\\n               </td>\\n               <td valign=\"top\">\\n                SUPPL-2\\n               </td>\\n               <td valign=\"top\">\\n                Labeling-Medication Guide\\n               </td>\\n               <td valign=\"top\">\\n                <a href=\"https://www.accessdata.fda.gov/drugsatfda_docs/label/2023/215866Orig1s002s006lbl.pdf\" target=\"_blank\" title=\"Links to http://www.accessdata.fda.gov/drugsatfda_docs/label/2023/215866Orig1s002s006lbl.pdf\">\\n                 Label (PDF)\\n                </a>\\n               </td>\\n               <td valign=\"top\">\\n               </td>\\n               <td>\\n                https://www.accessdata.fda.gov/drugsatfda_docs/label/2023/215866Orig1s002s006lbl.pdf\\n               </td>\\n              </tr>\\n              <tr class=\"UnBoldText\">\\n               <td valign=\"top\">\\n                05/13/2022\\n               </td>\\n               <td valign=\"top\">\\n                ORIG-1\\n               </td>\\n               <td valign=\"top\">\\n                Approval\\n               </td>\\n               <td valign=\"top\">\\n                <a href=\"https://www.accessdata.fda.gov/drugsatfda_docs/label/2022/215866s000lbl.pdf\" target=\"_blank\" title=\"Links to http://www.accessdata.fda.gov/drugsatfda_docs/label/2022/215866s000lbl.pdf\">\\n                 Label (PDF)\\n                </a>\\n               </td>\\n               <td valign=\"top\">\\n               </td>\\n               <td>\\n                https://www.accessdata.fda.gov/drugsatfda_docs/label/2022/215866s000lbl.pdf\\n               </td>\\n              </tr>\\n             </tbody>\\n            </table>\\n           </div>\\n          </div>\\n         </div>\\n        </div>\\n       </div>\\n       <div class=\"row lcds-footer__disclaimer\">\\n       </div>\\n      </div>\\n     </article>\\n    </main>\\n   </div>\\n  </div>\\n  <footer class=\"lcds-footer container-fluid\">\\n   <div class=\"row lcds-footer__primary\">\\n    <h2 class=\"sr-only\" id=\"footer-heading\">\\n     Footer Links\\n    </h2>\\n    <nav class=\"text-center\">\\n     <div class=\"col-sm-4\">\\n      <ul class=\"nav\">\\n       <li>\\n        <a href=\"https://www.fda.gov/about-fda/about-website/fdagov-archive\">\\n         FDA Archive\\n        </a>\\n       </li>\\n       <li>\\n        <a href=\"https://www.fda.gov/about-fda\">\\n         About FDA\\n        </a>\\n       </li>\\n       <li>\\n        <a href=\"https://www.fda.gov/about-fda/about-website/internet-accessibility\">\\n         Accessibility\\n        </a>\\n       </li>\\n      </ul>\\n     </div>\\n     <div class=\"col-sm-4\">\\n      <ul class=\"nav\">\\n       <li>\\n        <a href=\"https://www.fda.gov/about-fda/white-oak-campus-information/public-meetings-fda-white-oak-campus\">\\n         Visitor Information\\n        </a>\\n       </li>\\n       <li>\\n        <a href=\"https://www.fda.gov/about-fda/about-website/website-policies\">\\n         Website Policies / Privacy\\n        </a>\\n       </li>\\n       <li>\\n        <a href=\"https://www.fda.gov/about-fda/jobs-and-training-fda/no-fear-act\">\\n         No FEAR Act\\n        </a>\\n       </li>\\n       <li>\\n        <a href=\"https://www.hhs.gov/vulnerability-disclosure-policy/index.html\" target=\"_blank\">\\n         Vulnerability Disclosure Policy\\n        </a>\\n       </li>\\n      </ul>\\n     </div>\\n     <div class=\"col-sm-4\">\\n      <ul class=\"nav\">\\n       <li>\\n        <a href=\"https://www.fda.gov/regulatory-information/freedom-information\" title=\"Freedom of Information Act\">\\n         FOIA\\n        </a>\\n       </li>\\n       <li>\\n        <a href=\"https://www.hhs.gov/\" target=\"_blank\" title=\"Health and Human Services\">\\n         HHS.gov\\n        </a>\\n       </li>\\n       <li>\\n        <a href=\"https://www.usa.gov/\" target=\"_blank\">\\n         USA.gov\\n        </a>\\n       </li>\\n      </ul>\\n     </div>\\n    </nav>\\n   </div>\\n   <div class=\"row lcds-footer__secondary\">\\n    <div class=\"col-sm-12 col-md-4 lcds-footer__social-links\">\\n     <a class=\"btn btn-default btn-md\" href=\"https://www.fda.gov/about-fda/contact-fda\">\\n      Contact FDA\\n     </a>\\n     <a class=\"no-disclaimer\" href=\"https://www.facebook.com/FDA\" title=\"Follow FDA on Facebook\">\\n      <span aria-hidden=\"true\" class=\"fa fa-facebook fa-2x\">\\n       <span class=\"sr-only\">\\n        Follow FDA on Facebook\\n       </span>\\n      </span>\\n     </a>\\n     <a class=\"no-disclaimer\" href=\"https://www.twitter.com/US_FDA\" title=\"Follow FDA on Twitter\">\\n      <span aria-hidden=\"true\" class=\"fa fa-twitter fa-2x\">\\n       <span class=\"sr-only\">\\n        Follow FDA on Twitter\\n       </span>\\n      </span>\\n     </a>\\n     <a class=\"no-disclaimer\" href=\"https://www.youtube.com/user/USFoodandDrugAdmin\" title=\"View FDA videos on YouTube\">\\n      <span aria-hidden=\"true\" class=\"fa fa-youtube fa-2x\">\\n       <span class=\"sr-only\">\\n        View FDA videos on YouTube\\n       </span>\\n      </span>\\n     </a>\\n     <a href=\"https://www.fda.gov/about-fda/contact-fda/subscribe-podcasts-and-news-feeds\" title=\"Subscribe to FDA RSS feeds\">\\n      <span aria-hidden=\"true\" class=\"fa fa-rss fa-2x\">\\n       <span class=\"sr-only\">\\n        Subscribe to FDA RSS feeds\\n       </span>\\n      </span>\\n     </a>\\n    </div>\\n    <a href=\"https://www.fda.gov/\" title=\"FDA Homepage\">\\n     <div class=\"hidden-xs hidden-sm col-md-4 text-center lcds-footer__logo\">\\n      <span class=\"sr-only\">\\n       FDA Homepage\\n      </span>\\n     </div>\\n    </a>\\n    <div class=\"col-sm-12 col-md-4 text-center lcds-footer__contact-number\">\\n     <span aria-hidden=\"true\" class=\"fa fa-phone\">\\n     </span>\\n     <span class=\"sr-only\">\\n      Contact Number\\n     </span>\\n     1-888-INFO-FDA (1-888-463-6332)\\n    </div>\\n   </div>\\n  </footer>\\n  <a class=\"btn btn-primary btn-top\" id=\"pageTop\">\\n   <span class=\"sr-only\">\\n    Back to\\n   </span>\\n   Top\\n  </a>\\n </body>\\n</html>\\n'"
      ]
     },
     "execution_count": 17,
     "metadata": {},
     "output_type": "execute_result"
    }
   ],
   "source": [
    "soup.prettify()"
   ]
  },
  {
   "cell_type": "code",
   "execution_count": 23,
   "id": "6f198db2-5b0f-4b11-8939-05f287750247",
   "metadata": {},
   "outputs": [
    {
     "name": "stdout",
     "output_type": "stream",
     "text": [
      "#main-content\n",
      "#search-form\n",
      "#footer-heading\n",
      "https://www.fda.gov\n",
      "#primary-nav\n",
      "https://www.fda.gov/about-fda/contact-fda\n",
      "https://www.fda.gov/regulatory-information/search-fda-guidance-documents\n",
      "https://www.fda.gov/safety/recalls-market-withdrawals-safety-alerts\n",
      "https://www.fda.gov/news-events/newsroom/press-announcements\n",
      "https://www.fda.gov/inspections-compliance-enforcement-and-criminal-investigations/compliance-actions-and-activities/warning-letters\n",
      "https://www.fda.gov/advisory-committees\n",
      "https://www.fda.gov/about-fda/en-espanol\n",
      "https://www.fda.gov/food\n",
      "https://www.fda.gov/drugs\n",
      "https://www.fda.gov/medical-devices\n",
      "https://www.fda.gov/radiation-emitting-products\n",
      "https://www.fda.gov/vaccines-blood-biologics\n",
      "https://www.fda.gov/animal-veterinary\n",
      "https://www.fda.gov/cosmetics\n",
      "https://www.fda.gov/tobacco-products\n",
      "https://www.fda.gov/about-fda\n",
      "https://www.fda.gov/combination-products\n",
      "https://www.fda.gov/regulatory-information\n",
      "https://www.fda.gov/safety\n",
      "https://www.fda.gov/emergency-preparedness-and-response\n",
      "https://www.fda.gov/international-programs\n",
      "https://www.fda.gov/news-events\n",
      "https://www.fda.gov/training-and-continuing-education\n",
      "https://www.fda.gov/inspections-compliance-enforcement-and-criminal-investigations\n",
      "https://www.fda.gov/science-research\n",
      "https://www.fda.gov/consumers\n",
      "https://www.fda.gov/patients\n",
      "https://www.fda.gov/industry\n",
      "https://www.fda.gov/health-professionals\n",
      "https://www.fda.gov/federal-state-local-tribal-and-territorial-officials\n",
      "https://www.fda.gov/\n",
      "https://www.fda.gov/Drugs/InformationOnDrugs/default.htm\n",
      "/scripts/cder/daf/index.cfm\n",
      "javascript:window.print();\n",
      "index.cfm\n",
      "#\n",
      "mailto:?Subject=Drugs@FDA: FDA Approved Drug Products&body=http://www.accessdata.fda.gov/scripts/cder/daf/index.cfm?event=overview.process%26varApplNo=215866\n",
      "https://www.accessdata.fda.gov/drugsatfda_docs/label/2023/215866Orig1s002s006lbl.pdf#page=20\n",
      "#collapseProduct\n",
      "#collapseApproval\n",
      "https://www.accessdata.fda.gov/drugsatfda_docs/label/2022/215866s000lbl.pdf\n",
      "https://www.accessdata.fda.gov/drugsatfda_docs/appletter/2022/215866Orig1s000ltr.pdf\n",
      "https://www.accessdata.fda.gov/drugsatfda_docs/nda/2022/215866Orig1s000TOC.cfm\n",
      "https://www.accessdata.fda.gov/drugsatfda_docs/label/2023/215866Orig1s002s006lbl.pdf\n",
      "https://www.accessdata.fda.gov/drugsatfda_docs/appletter/2023/215866Orig1s002,s006ltr.pdf\n",
      "https://www.accessdata.fda.gov/drugsatfda_docs/label/2023/215866Orig1s002s006lbl.pdf\n",
      "https://www.accessdata.fda.gov/drugsatfda_docs/appletter/2023/215866Orig1s002,s006ltr.pdf\n",
      "#collapseLables\n",
      "https://www.accessdata.fda.gov/drugsatfda_docs/label/2023/215866Orig1s002s006lbl.pdf\n",
      "https://www.accessdata.fda.gov/drugsatfda_docs/label/2023/215866Orig1s002s006lbl.pdf\n",
      "https://www.accessdata.fda.gov/drugsatfda_docs/label/2023/215866Orig1s002s006lbl.pdf\n",
      "https://www.accessdata.fda.gov/drugsatfda_docs/label/2023/215866Orig1s002s006lbl.pdf\n",
      "https://www.accessdata.fda.gov/drugsatfda_docs/label/2022/215866s000lbl.pdf\n",
      "https://www.fda.gov/about-fda/about-website/fdagov-archive\n",
      "https://www.fda.gov/about-fda\n",
      "https://www.fda.gov/about-fda/about-website/internet-accessibility\n",
      "https://www.fda.gov/about-fda/white-oak-campus-information/public-meetings-fda-white-oak-campus\n",
      "https://www.fda.gov/about-fda/about-website/website-policies\n",
      "https://www.fda.gov/about-fda/jobs-and-training-fda/no-fear-act\n",
      "https://www.hhs.gov/vulnerability-disclosure-policy/index.html\n",
      "https://www.fda.gov/regulatory-information/freedom-information\n",
      "https://www.hhs.gov/\n",
      "https://www.usa.gov/\n",
      "https://www.fda.gov/about-fda/contact-fda\n",
      "https://www.facebook.com/FDA\n",
      "https://www.twitter.com/US_FDA\n",
      "https://www.youtube.com/user/USFoodandDrugAdmin\n",
      "https://www.fda.gov/about-fda/contact-fda/subscribe-podcasts-and-news-feeds\n",
      "https://www.fda.gov/\n"
     ]
    }
   ],
   "source": [
    "for row in soup.find_all(\"a\",href=True):\n",
    "    print(row.get(\"href\"))\n"
   ]
  },
  {
   "cell_type": "code",
   "execution_count": 25,
   "id": "e0b6143a-acc0-43af-abf3-924200e5a6ac",
   "metadata": {},
   "outputs": [
    {
     "name": "stdout",
     "output_type": "stream",
     "text": [
      "/scripts/includes/fdagov/images/US_Flag.png\n",
      "/scripts/includes/fdagov/images/icon-dot-gov.svg\n",
      "/scripts/includes/fdagov/images/icon-https.svg\n"
     ]
    }
   ],
   "source": [
    "for line in soup.find_all(\"img\"):\n",
    "    print(line.get(\"src\"))"
   ]
  },
  {
   "cell_type": "code",
   "execution_count": 32,
   "id": "994fecc9-c78d-44c9-9ab8-6d157a66d609",
   "metadata": {},
   "outputs": [
    {
     "data": {
      "text/html": [
       "<div>\n",
       "<style scoped>\n",
       "    .dataframe tbody tr th:only-of-type {\n",
       "        vertical-align: middle;\n",
       "    }\n",
       "\n",
       "    .dataframe tbody tr th {\n",
       "        vertical-align: top;\n",
       "    }\n",
       "\n",
       "    .dataframe thead th {\n",
       "        text-align: right;\n",
       "    }\n",
       "</style>\n",
       "<table border=\"1\" class=\"dataframe\">\n",
       "  <thead>\n",
       "    <tr style=\"text-align: right;\">\n",
       "      <th></th>\n",
       "      <th>Action Date</th>\n",
       "      <th>Submission</th>\n",
       "      <th>Supplement Categories or Approval Type</th>\n",
       "      <th>Letters, Reviews, Labels, Patient Package Insert</th>\n",
       "      <th>Note</th>\n",
       "      <th>Url</th>\n",
       "    </tr>\n",
       "  </thead>\n",
       "  <tbody>\n",
       "    <tr>\n",
       "      <th>0</th>\n",
       "      <td>07/28/2023</td>\n",
       "      <td>SUPPL-6</td>\n",
       "      <td>Labeling-Package Insert</td>\n",
       "      <td>Label (PDF)</td>\n",
       "      <td>NaN</td>\n",
       "      <td>https://www.accessdata.fda.gov/drugsatfda_docs...</td>\n",
       "    </tr>\n",
       "    <tr>\n",
       "      <th>1</th>\n",
       "      <td>07/28/2023</td>\n",
       "      <td>SUPPL-2</td>\n",
       "      <td>Labeling-Package Insert</td>\n",
       "      <td>Label (PDF)</td>\n",
       "      <td>NaN</td>\n",
       "      <td>https://www.accessdata.fda.gov/drugsatfda_docs...</td>\n",
       "    </tr>\n",
       "    <tr>\n",
       "      <th>2</th>\n",
       "      <td>07/28/2023</td>\n",
       "      <td>SUPPL-2</td>\n",
       "      <td>Labeling-Container/Carton Labels</td>\n",
       "      <td>Label (PDF)</td>\n",
       "      <td>NaN</td>\n",
       "      <td>https://www.accessdata.fda.gov/drugsatfda_docs...</td>\n",
       "    </tr>\n",
       "    <tr>\n",
       "      <th>3</th>\n",
       "      <td>07/28/2023</td>\n",
       "      <td>SUPPL-2</td>\n",
       "      <td>Labeling-Medication Guide</td>\n",
       "      <td>Label (PDF)</td>\n",
       "      <td>NaN</td>\n",
       "      <td>https://www.accessdata.fda.gov/drugsatfda_docs...</td>\n",
       "    </tr>\n",
       "    <tr>\n",
       "      <th>4</th>\n",
       "      <td>05/13/2022</td>\n",
       "      <td>ORIG-1</td>\n",
       "      <td>Approval</td>\n",
       "      <td>Label (PDF)</td>\n",
       "      <td>NaN</td>\n",
       "      <td>https://www.accessdata.fda.gov/drugsatfda_docs...</td>\n",
       "    </tr>\n",
       "  </tbody>\n",
       "</table>\n",
       "</div>"
      ],
      "text/plain": [
       "  Action Date Submission Supplement Categories or Approval Type  \\\n",
       "0  07/28/2023    SUPPL-6                Labeling-Package Insert   \n",
       "1  07/28/2023    SUPPL-2                Labeling-Package Insert   \n",
       "2  07/28/2023    SUPPL-2       Labeling-Container/Carton Labels   \n",
       "3  07/28/2023    SUPPL-2              Labeling-Medication Guide   \n",
       "4  05/13/2022     ORIG-1                               Approval   \n",
       "\n",
       "  Letters, Reviews, Labels, Patient Package Insert  Note  \\\n",
       "0                                      Label (PDF)   NaN   \n",
       "1                                      Label (PDF)   NaN   \n",
       "2                                      Label (PDF)   NaN   \n",
       "3                                      Label (PDF)   NaN   \n",
       "4                                      Label (PDF)   NaN   \n",
       "\n",
       "                                                 Url  \n",
       "0  https://www.accessdata.fda.gov/drugsatfda_docs...  \n",
       "1  https://www.accessdata.fda.gov/drugsatfda_docs...  \n",
       "2  https://www.accessdata.fda.gov/drugsatfda_docs...  \n",
       "3  https://www.accessdata.fda.gov/drugsatfda_docs...  \n",
       "4  https://www.accessdata.fda.gov/drugsatfda_docs...  "
      ]
     },
     "execution_count": 32,
     "metadata": {},
     "output_type": "execute_result"
    }
   ],
   "source": [
    "tables=pd.read_html(url)\n",
    "table=tables[3]\n",
    "table=pd.DataFrame(table)\n",
    "table"
   ]
  },
  {
   "cell_type": "code",
   "execution_count": null,
   "id": "3fc692f5-6070-4811-af1f-fd169c1ac3b8",
   "metadata": {},
   "outputs": [],
   "source": []
  }
 ],
 "metadata": {
  "kernelspec": {
   "display_name": "Python 3 (ipykernel)",
   "language": "python",
   "name": "python3"
  },
  "language_info": {
   "codemirror_mode": {
    "name": "ipython",
    "version": 3
   },
   "file_extension": ".py",
   "mimetype": "text/x-python",
   "name": "python",
   "nbconvert_exporter": "python",
   "pygments_lexer": "ipython3",
   "version": "3.11.7"
  }
 },
 "nbformat": 4,
 "nbformat_minor": 5
}
